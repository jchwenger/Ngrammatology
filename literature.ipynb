{
 "cells": [
  {
   "cell_type": "code",
   "execution_count": 1,
   "metadata": {},
   "outputs": [],
   "source": [
    "from IPython.display import IFrame\n",
    "from ngram import *"
   ]
  },
  {
   "cell_type": "markdown",
   "metadata": {},
   "source": [
    "## Modernism \n",
    "\n",
    "A trio of titans from the modernist era (English corups);"
   ]
  },
  {
   "cell_type": "code",
   "execution_count": 2,
   "metadata": {},
   "outputs": [
    {
     "data": {
      "text/html": [
       "\n",
       "        <iframe\n",
       "            width=\"900\"\n",
       "            height=\"400\"\n",
       "            src=\"https://books.google.com/ngrams/interactive_chart?content=James+Joyce%2CMarcel+Proust%2CSamuel+Beckett&year_start=1900&year_end=2008&corpus=15&smoothing=3&share=&direct_url=t1%3B%2CJames%20Joyce%3B%2Cc0.t1%3B%2CMarcel%20Proust%3B%2Cc0.t1%3B%2CSamuel%20Beckett%3B%2Cc0\"\n",
       "            frameborder=\"0\"\n",
       "            allowfullscreen\n",
       "        ></iframe>\n",
       "        "
      ],
      "text/plain": [
       "<IPython.lib.display.IFrame at 0x7fd7b80b2ac8>"
      ]
     },
     "execution_count": 2,
     "metadata": {},
     "output_type": "execute_result"
    }
   ],
   "source": [
    "kwords = ['James Joyce', 'Marcel Proust', 'Samuel Beckett']\n",
    "IFrame(ngram_url(kwords, year_start='1900'), 900, 400)"
   ]
  },
  {
   "cell_type": "markdown",
   "metadata": {},
   "source": [
    "In France, the same looks like this:"
   ]
  },
  {
   "cell_type": "code",
   "execution_count": 3,
   "metadata": {},
   "outputs": [
    {
     "data": {
      "text/html": [
       "\n",
       "        <iframe\n",
       "            width=\"900\"\n",
       "            height=\"400\"\n",
       "            src=\"https://books.google.com/ngrams/interactive_chart?content=James+Joyce%2CMarcel+Proust%2CSamuel+Beckett&year_start=1900&year_end=2008&corpus=19&smoothing=3&share=&direct_url=t1%3B%2CJames%20Joyce%3B%2Cc0.t1%3B%2CMarcel%20Proust%3B%2Cc0.t1%3B%2CSamuel%20Beckett%3B%2Cc0\"\n",
       "            frameborder=\"0\"\n",
       "            allowfullscreen\n",
       "        ></iframe>\n",
       "        "
      ],
      "text/plain": [
       "<IPython.lib.display.IFrame at 0x7fd7b80b2a58>"
      ]
     },
     "execution_count": 3,
     "metadata": {},
     "output_type": "execute_result"
    }
   ],
   "source": [
    "IFrame(ngram_url(kwords, corpus='French', year_start='1900'), 900, 400)"
   ]
  },
  {
   "cell_type": "markdown",
   "metadata": {},
   "source": [
    "To my not-so-surprise, Virginia Woolf has grown a lot recently, and overtakes other modernist fat cats (English-speaking world again):"
   ]
  },
  {
   "cell_type": "code",
   "execution_count": 4,
   "metadata": {},
   "outputs": [
    {
     "data": {
      "text/html": [
       "\n",
       "        <iframe\n",
       "            width=\"900\"\n",
       "            height=\"400\"\n",
       "            src=\"https://books.google.com/ngrams/interactive_chart?content=James+Joyce%2CMarcel+Proust%2CSamuel+Beckett%2CVirginia+Woolf%2CEzra+Pound%2CFranz+Kafka&year_start=1900&year_end=2008&corpus=15&smoothing=3&share=&direct_url=t1%3B%2CJames%20Joyce%3B%2Cc0.t1%3B%2CMarcel%20Proust%3B%2Cc0.t1%3B%2CSamuel%20Beckett%3B%2Cc0.t1%3B%2CVirginia%20Woolf%3B%2Cc0.t1%3B%2CEzra%20Pound%3B%2Cc0.t1%3B%2CFranz%20Kafka%3B%2Cc0\"\n",
       "            frameborder=\"0\"\n",
       "            allowfullscreen\n",
       "        ></iframe>\n",
       "        "
      ],
      "text/plain": [
       "<IPython.lib.display.IFrame at 0x7fd7b80b2cf8>"
      ]
     },
     "execution_count": 4,
     "metadata": {},
     "output_type": "execute_result"
    }
   ],
   "source": [
    "kwords = ['James Joyce', 'Marcel Proust', 'Samuel Beckett', 'Virginia Woolf', 'Ezra Pound', 'Franz Kafka']\n",
    "IFrame(ngram_url(kwords, year_start='1900'), 900, 400)"
   ]
  },
  {
   "cell_type": "markdown",
   "metadata": {},
   "source": [
    "Although once again, seen from France, Marcel is still way ahead."
   ]
  },
  {
   "cell_type": "code",
   "execution_count": 5,
   "metadata": {},
   "outputs": [
    {
     "data": {
      "text/html": [
       "\n",
       "        <iframe\n",
       "            width=\"900\"\n",
       "            height=\"400\"\n",
       "            src=\"https://books.google.com/ngrams/interactive_chart?content=James+Joyce%2CMarcel+Proust%2CSamuel+Beckett%2CVirginia+Woolf%2CEzra+Pound%2CFranz+Kafka&year_start=1900&year_end=2008&corpus=19&smoothing=3&share=&direct_url=t1%3B%2CJames%20Joyce%3B%2Cc0.t1%3B%2CMarcel%20Proust%3B%2Cc0.t1%3B%2CSamuel%20Beckett%3B%2Cc0.t1%3B%2CVirginia%20Woolf%3B%2Cc0.t1%3B%2CEzra%20Pound%3B%2Cc0.t1%3B%2CFranz%20Kafka%3B%2Cc0\"\n",
       "            frameborder=\"0\"\n",
       "            allowfullscreen\n",
       "        ></iframe>\n",
       "        "
      ],
      "text/plain": [
       "<IPython.lib.display.IFrame at 0x7fd7b80b2d68>"
      ]
     },
     "execution_count": 5,
     "metadata": {},
     "output_type": "execute_result"
    }
   ],
   "source": [
    "kwords = ['James Joyce', 'Marcel Proust', 'Samuel Beckett', 'Virginia Woolf', 'Ezra Pound', 'Franz Kafka']\n",
    "IFrame(ngram_url(kwords, corpus='French', year_start='1900'), 900, 400)"
   ]
  },
  {
   "cell_type": "markdown",
   "metadata": {},
   "source": [
    "One could see a similar phenomenon as with Woolf, just starker, when injecting Colette into the mix:"
   ]
  },
  {
   "cell_type": "code",
   "execution_count": 9,
   "metadata": {},
   "outputs": [
    {
     "data": {
      "text/html": [
       "\n",
       "        <iframe\n",
       "            width=\"900\"\n",
       "            height=\"400\"\n",
       "            src=\"https://books.google.com/ngrams/interactive_chart?content=James+Joyce%2CMarcel+Proust%2CSamuel+Beckett%2CVirginia+Woolf%2CEzra+Pound%2CFranz+Kafka%2CColette&year_start=1900&year_end=2008&corpus=19&smoothing=3&share=&direct_url=t1%3B%2CJames%20Joyce%3B%2Cc0.t1%3B%2CMarcel%20Proust%3B%2Cc0.t1%3B%2CSamuel%20Beckett%3B%2Cc0.t1%3B%2CVirginia%20Woolf%3B%2Cc0.t1%3B%2CEzra%20Pound%3B%2Cc0.t1%3B%2CFranz%20Kafka%3B%2Cc0.t1%3B%2CColette%3B%2Cc0\"\n",
       "            frameborder=\"0\"\n",
       "            allowfullscreen\n",
       "        ></iframe>\n",
       "        "
      ],
      "text/plain": [
       "<IPython.lib.display.IFrame at 0x7fd7b77f22e8>"
      ]
     },
     "execution_count": 9,
     "metadata": {},
     "output_type": "execute_result"
    }
   ],
   "source": [
    "kwords = ['James Joyce', 'Marcel Proust', 'Samuel Beckett', 'Virginia Woolf', 'Ezra Pound', 'Franz Kafka', 'Colette']\n",
    "IFrame(ngram_url(kwords, corpus='French',year_start='1900'), 900, 400)"
   ]
  },
  {
   "cell_type": "markdown",
   "metadata": {},
   "source": [
    "Appearances can be deceptive, however. If instead of 'Marcel Proust' I search only for 'Proust', we're back where we started... "
   ]
  },
  {
   "cell_type": "code",
   "execution_count": 10,
   "metadata": {},
   "outputs": [
    {
     "data": {
      "text/html": [
       "\n",
       "        <iframe\n",
       "            width=\"900\"\n",
       "            height=\"400\"\n",
       "            src=\"https://books.google.com/ngrams/interactive_chart?content=James+Joyce%2CProust%2CSamuel+Beckett%2CVirginia+Woolf%2CEzra+Pound%2CFranz+Kafka%2CColette&year_start=1900&year_end=2008&corpus=19&smoothing=3&share=&direct_url=t1%3B%2CJames%20Joyce%3B%2Cc0.t1%3B%2CProust%3B%2Cc0.t1%3B%2CSamuel%20Beckett%3B%2Cc0.t1%3B%2CVirginia%20Woolf%3B%2Cc0.t1%3B%2CEzra%20Pound%3B%2Cc0.t1%3B%2CFranz%20Kafka%3B%2Cc0.t1%3B%2CColette%3B%2Cc0\"\n",
       "            frameborder=\"0\"\n",
       "            allowfullscreen\n",
       "        ></iframe>\n",
       "        "
      ],
      "text/plain": [
       "<IPython.lib.display.IFrame at 0x7fd7b77f2208>"
      ]
     },
     "execution_count": 10,
     "metadata": {},
     "output_type": "execute_result"
    }
   ],
   "source": [
    "kwords = ['James Joyce', 'Proust', 'Samuel Beckett', 'Virginia Woolf', 'Ezra Pound', 'Franz Kafka', 'Colette']\n",
    "IFrame(ngram_url(kwords, corpus='French',year_start='1900'), 900, 400)"
   ]
  },
  {
   "cell_type": "markdown",
   "metadata": {},
   "source": [
    "---\n",
    "\n",
    "\n",
    "## Ladies' wars\n",
    "\n",
    "Taking some big women writers from the English-speaking sphere. Notice once again the remarkable presence of Woolf, as well as the Austen rebound in the late 20<sup>th</sup> century."
   ]
  },
  {
   "cell_type": "code",
   "execution_count": 13,
   "metadata": {},
   "outputs": [
    {
     "data": {
      "text/html": [
       "\n",
       "        <iframe\n",
       "            width=\"900\"\n",
       "            height=\"400\"\n",
       "            src=\"https://books.google.com/ngrams/interactive_chart?content=Jane+Austen%2CVirginia+Woolf%2CEmily+Dickinson%2CEmily+Bronte%2CCharlotte+Bronte%2CGeorge+Eliot&year_start=1800&year_end=2008&corpus=15&smoothing=3&share=&direct_url=t1%3B%2CJane%20Austen%3B%2Cc0.t1%3B%2CVirginia%20Woolf%3B%2Cc0.t1%3B%2CEmily%20Dickinson%3B%2Cc0.t1%3B%2CEmily%20Bronte%3B%2Cc0.t1%3B%2CCharlotte%20Bronte%3B%2Cc0.t1%3B%2CGeorge%20Eliot%3B%2Cc0\"\n",
       "            frameborder=\"0\"\n",
       "            allowfullscreen\n",
       "        ></iframe>\n",
       "        "
      ],
      "text/plain": [
       "<IPython.lib.display.IFrame at 0x7fd7b77f2400>"
      ]
     },
     "execution_count": 13,
     "metadata": {},
     "output_type": "execute_result"
    }
   ],
   "source": [
    "kwords = ['Jane Austen', 'Virginia Woolf', 'Emily Dickinson','Emily Bronte', 'Charlotte Bronte', 'George Eliot']\n",
    "IFrame(ngram_url(kwords, corpus='English',year_start='1800'), 900, 400)"
   ]
  },
  {
   "cell_type": "markdown",
   "metadata": {},
   "source": [
    "---\n",
    "\n",
    "## A shot at the German-speaking world\n",
    "\n",
    "Just some big names coming to mind. Notice the difference of importance between the German corpus (first graph), and the English one (second)."
   ]
  },
  {
   "cell_type": "code",
   "execution_count": 16,
   "metadata": {},
   "outputs": [
    {
     "data": {
      "text/html": [
       "\n",
       "        <iframe\n",
       "            width=\"900\"\n",
       "            height=\"400\"\n",
       "            src=\"https://books.google.com/ngrams/interactive_chart?content=Thomas+Mann%2CHeinrich+Heine%2CFranz+Kafka%2CRobert+Musil%2CRainer+Maria+Rilke&year_start=1800&year_end=2008&corpus=20&smoothing=3&share=&direct_url=t1%3B%2CThomas%20Mann%3B%2Cc0.t1%3B%2CHeinrich%20Heine%3B%2Cc0.t1%3B%2CFranz%20Kafka%3B%2Cc0.t1%3B%2CRobert%20Musil%3B%2Cc0.t1%3B%2CRainer%20Maria%20Rilke%3B%2Cc0\"\n",
       "            frameborder=\"0\"\n",
       "            allowfullscreen\n",
       "        ></iframe>\n",
       "        "
      ],
      "text/plain": [
       "<IPython.lib.display.IFrame at 0x7fd7b77f24e0>"
      ]
     },
     "execution_count": 16,
     "metadata": {},
     "output_type": "execute_result"
    }
   ],
   "source": [
    "kwords = ['Thomas Mann', 'Heinrich Heine', 'Franz Kafka', 'Robert Musil', 'Rainer Maria Rilke']\n",
    "IFrame(ngram_url(kwords, corpus='German',year_start='1800'), 900, 400)"
   ]
  },
  {
   "cell_type": "code",
   "execution_count": 17,
   "metadata": {},
   "outputs": [
    {
     "data": {
      "text/html": [
       "\n",
       "        <iframe\n",
       "            width=\"900\"\n",
       "            height=\"400\"\n",
       "            src=\"https://books.google.com/ngrams/interactive_chart?content=Thomas+Mann%2CHeinrich+Heine%2CFranz+Kafka%2CRobert+Musil%2CRainer+Maria+Rilke&year_start=1800&year_end=2008&corpus=15&smoothing=3&share=&direct_url=t1%3B%2CThomas%20Mann%3B%2Cc0.t1%3B%2CHeinrich%20Heine%3B%2Cc0.t1%3B%2CFranz%20Kafka%3B%2Cc0.t1%3B%2CRobert%20Musil%3B%2Cc0.t1%3B%2CRainer%20Maria%20Rilke%3B%2Cc0\"\n",
       "            frameborder=\"0\"\n",
       "            allowfullscreen\n",
       "        ></iframe>\n",
       "        "
      ],
      "text/plain": [
       "<IPython.lib.display.IFrame at 0x7fd7df6e8710>"
      ]
     },
     "execution_count": 17,
     "metadata": {},
     "output_type": "execute_result"
    }
   ],
   "source": [
    "IFrame(ngram_url(kwords, corpus='English',year_start='1800'), 900, 400)"
   ]
  },
  {
   "cell_type": "markdown",
   "metadata": {},
   "source": [
    "Obviously everything would change if you only put the last name (e.g. 'Kafka' instead of 'Franz Kafka') in the same corpora, but the tool, to my knowledge, only searches for words, not entities, hence the idea that a much more common name like 'Mann' (already a few writers, Thomas, Heinrich, etc.) would pop up way more often than others...\n",
    "\n",
    "To put things into perspective, let's shove the big Weimar classics in:"
   ]
  },
  {
   "cell_type": "code",
   "execution_count": 21,
   "metadata": {},
   "outputs": [
    {
     "data": {
      "text/html": [
       "\n",
       "        <iframe\n",
       "            width=\"900\"\n",
       "            height=\"400\"\n",
       "            src=\"https://books.google.com/ngrams/interactive_chart?content=Goethe%2CSchiller%2CHölderlin%2CKafka%2CThomas+Mann&year_start=1800&year_end=2008&corpus=20&smoothing=3&share=&direct_url=t1%3B%2CGoethe%3B%2Cc0.t1%3B%2CSchiller%3B%2Cc0.t1%3B%2CHölderlin%3B%2Cc0.t1%3B%2CKafka%3B%2Cc0.t1%3B%2CThomas%20Mann%3B%2Cc0\"\n",
       "            frameborder=\"0\"\n",
       "            allowfullscreen\n",
       "        ></iframe>\n",
       "        "
      ],
      "text/plain": [
       "<IPython.lib.display.IFrame at 0x7fd7b77f2a20>"
      ]
     },
     "execution_count": 21,
     "metadata": {},
     "output_type": "execute_result"
    }
   ],
   "source": [
    "kwords = ['Goethe', 'Schiller', 'Hölderlin', 'Kafka', 'Thomas Mann']\n",
    "IFrame(ngram_url(kwords, corpus='German',year_start='1800'), 900, 400)"
   ]
  },
  {
   "cell_type": "markdown",
   "metadata": {},
   "source": [
    "Once again if you are strict and only have full names, you don't get the same picture. But given that it's been ages since writers refer to Goethe as Goethe, or Hölderlin as Hölderlin, it is no wonder that the full names yield less results (same problem as above: there are quite a few Schillers or Mann around, we'd need true entity recognition here!)."
   ]
  },
  {
   "cell_type": "code",
   "execution_count": 22,
   "metadata": {},
   "outputs": [
    {
     "data": {
      "text/html": [
       "\n",
       "        <iframe\n",
       "            width=\"900\"\n",
       "            height=\"400\"\n",
       "            src=\"https://books.google.com/ngrams/interactive_chart?content=Johann+Wolfgang+Goethe%2CHeinrich+Schiller%2CFriedrich+Hölderlin%2CFranz+Kafka%2CThomas+Mann&year_start=1800&year_end=2008&corpus=20&smoothing=3&share=&direct_url=t1%3B%2CJohann%20Wolfgang%20Goethe%3B%2Cc0.t1%3B%2CHeinrich%20Schiller%3B%2Cc0.t1%3B%2CFriedrich%20Hölderlin%3B%2Cc0.t1%3B%2CFranz%20Kafka%3B%2Cc0.t1%3B%2CThomas%20Mann%3B%2Cc0\"\n",
       "            frameborder=\"0\"\n",
       "            allowfullscreen\n",
       "        ></iframe>\n",
       "        "
      ],
      "text/plain": [
       "<IPython.lib.display.IFrame at 0x7fd7b77f28d0>"
      ]
     },
     "execution_count": 22,
     "metadata": {},
     "output_type": "execute_result"
    }
   ],
   "source": [
    "kwords = ['Johann Wolfgang Goethe', 'Heinrich Schiller', 'Friedrich Hölderlin', 'Franz Kafka', 'Thomas Mann']\n",
    "IFrame(ngram_url(kwords, corpus='German',year_start='1800'), 900, 400)"
   ]
  },
  {
   "cell_type": "markdown",
   "metadata": {},
   "source": [
    "---\n",
    "\n",
    "## All-times giants\n",
    "\n",
    "Because I just can't resist (yes, included a few big philosophers as well)... In a few different corpora."
   ]
  },
  {
   "cell_type": "code",
   "execution_count": 28,
   "metadata": {},
   "outputs": [
    {
     "data": {
      "text/html": [
       "\n",
       "        <iframe\n",
       "            width=\"900\"\n",
       "            height=\"400\"\n",
       "            src=\"https://books.google.com/ngrams/interactive_chart?content=Shakespeare%2CAristotle%2CPlato%2CKant%2CHegel%2CHomer%2CDante%2CBalzac%2CRacine&year_start=1800&year_end=2008&corpus=15&smoothing=3&share=&direct_url=t1%3B%2CShakespeare%3B%2Cc0.t1%3B%2CAristotle%3B%2Cc0.t1%3B%2CPlato%3B%2Cc0.t1%3B%2CKant%3B%2Cc0.t1%3B%2CHegel%3B%2Cc0.t1%3B%2CHomer%3B%2Cc0.t1%3B%2CDante%3B%2Cc0.t1%3B%2CBalzac%3B%2Cc0.t1%3B%2CRacine%3B%2Cc0\"\n",
       "            frameborder=\"0\"\n",
       "            allowfullscreen\n",
       "        ></iframe>\n",
       "        "
      ],
      "text/plain": [
       "<IPython.lib.display.IFrame at 0x7fd7b7802128>"
      ]
     },
     "execution_count": 28,
     "metadata": {},
     "output_type": "execute_result"
    }
   ],
   "source": [
    "kwords = ['Shakespeare', 'Aristotle', 'Plato', 'Kant', 'Hegel', 'Homer', 'Dante', 'Balzac', 'Racine']\n",
    "IFrame(ngram_url(kwords, corpus='English',year_start='1800'), 900, 400)"
   ]
  },
  {
   "cell_type": "code",
   "execution_count": 31,
   "metadata": {},
   "outputs": [
    {
     "data": {
      "text/html": [
       "\n",
       "        <iframe\n",
       "            width=\"900\"\n",
       "            height=\"400\"\n",
       "            src=\"https://books.google.com/ngrams/interactive_chart?content=Shakespeare%2CAristote%2CPlaton%2CKant%2CHegel%2CHomère%2CDante%2CBalzac%2CHugo%2CRacine&year_start=1800&year_end=2008&corpus=19&smoothing=3&share=&direct_url=t1%3B%2CShakespeare%3B%2Cc0.t1%3B%2CAristote%3B%2Cc0.t1%3B%2CPlaton%3B%2Cc0.t1%3B%2CKant%3B%2Cc0.t1%3B%2CHegel%3B%2Cc0.t1%3B%2CHomère%3B%2Cc0.t1%3B%2CDante%3B%2Cc0.t1%3B%2CBalzac%3B%2Cc0.t1%3B%2CHugo%3B%2Cc0.t1%3B%2CRacine%3B%2Cc0\"\n",
       "            frameborder=\"0\"\n",
       "            allowfullscreen\n",
       "        ></iframe>\n",
       "        "
      ],
      "text/plain": [
       "<IPython.lib.display.IFrame at 0x7fd7b7802358>"
      ]
     },
     "execution_count": 31,
     "metadata": {},
     "output_type": "execute_result"
    }
   ],
   "source": [
    "kwords = ['Shakespeare', 'Aristote', 'Platon', 'Kant', 'Hegel', 'Homère', 'Dante', 'Balzac', 'Hugo','Racine']\n",
    "IFrame(ngram_url(kwords, corpus='French',year_start='1800'), 900, 400)"
   ]
  },
  {
   "cell_type": "code",
   "execution_count": 32,
   "metadata": {},
   "outputs": [
    {
     "data": {
      "text/html": [
       "\n",
       "        <iframe\n",
       "            width=\"900\"\n",
       "            height=\"400\"\n",
       "            src=\"https://books.google.com/ngrams/interactive_chart?content=Shakespeare%2CAristotele%2CPlatone%2CKant%2CHegel%2COmero%2CDante%2CBalzac%2CHugo%2CRacine&year_start=1800&year_end=2008&corpus=22&smoothing=3&share=&direct_url=t1%3B%2CShakespeare%3B%2Cc0.t1%3B%2CAristotele%3B%2Cc0.t1%3B%2CPlatone%3B%2Cc0.t1%3B%2CKant%3B%2Cc0.t1%3B%2CHegel%3B%2Cc0.t1%3B%2COmero%3B%2Cc0.t1%3B%2CDante%3B%2Cc0.t1%3B%2CBalzac%3B%2Cc0.t1%3B%2CHugo%3B%2Cc0.t1%3B%2CRacine%3B%2Cc0\"\n",
       "            frameborder=\"0\"\n",
       "            allowfullscreen\n",
       "        ></iframe>\n",
       "        "
      ],
      "text/plain": [
       "<IPython.lib.display.IFrame at 0x7fd7b78023c8>"
      ]
     },
     "execution_count": 32,
     "metadata": {},
     "output_type": "execute_result"
    }
   ],
   "source": [
    "kwords = ['Shakespeare', 'Aristotele', 'Platone', 'Kant', 'Hegel', 'Omero', 'Dante', 'Balzac', 'Hugo','Racine']\n",
    "IFrame(ngram_url(kwords, corpus='Italian',year_start='1800'), 900, 400)"
   ]
  }
 ],
 "metadata": {
  "kernelspec": {
   "display_name": "Python 3",
   "language": "python",
   "name": "python3"
  },
  "language_info": {
   "codemirror_mode": {
    "name": "ipython",
    "version": 3
   },
   "file_extension": ".py",
   "mimetype": "text/x-python",
   "name": "python",
   "nbconvert_exporter": "python",
   "pygments_lexer": "ipython3",
   "version": "3.6.7"
  }
 },
 "nbformat": 4,
 "nbformat_minor": 2
}
