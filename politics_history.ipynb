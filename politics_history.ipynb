{
 "cells": [
  {
   "cell_type": "code",
   "execution_count": 1,
   "metadata": {},
   "outputs": [],
   "source": [
    "from IPython.display import IFrame\n",
    "from ngram import *"
   ]
  },
  {
   "cell_type": "markdown",
   "metadata": {},
   "source": [
    "Ever noticed that the word Stalin contains the two letters AI? I would have thought that the world, especially the English-speaking world, would talk much more about AI than the Russian dictator and \"[Father of Nations](https://en.wikipedia.org/wiki/Stalin's_cult_of_personality)\", but I was wrong in two ways: not only is there still far more chat about the mean gulag dude than about artificial intelligence, but it seems there was even more talk about AI in the late 80s than before 2008 (where current data stops)! (The latter fact being no real surprise: the deep learning renaissance came about after that, especially in the early 2010s...)"
   ]
  },
  {
   "cell_type": "code",
   "execution_count": 2,
   "metadata": {},
   "outputs": [
    {
     "data": {
      "text/html": [
       "\n",
       "        <iframe\n",
       "            width=\"900\"\n",
       "            height=\"500\"\n",
       "            src=\"https://books.google.com/ngrams/interactive_chart?content=Stalin%2CAI&year_start=1900&year_end=2008&corpus=English&smoothing=3&share=&direct_url=t1%3B%2CStalin%3B%2Cc0.t1%3B%2CAI%3B%2Cc0\"\n",
       "            frameborder=\"0\"\n",
       "            allowfullscreen\n",
       "        ></iframe>\n",
       "        "
      ],
      "text/plain": [
       "<IPython.lib.display.IFrame at 0x7fc4a7abb9b0>"
      ]
     },
     "execution_count": 2,
     "metadata": {},
     "output_type": "execute_result"
    }
   ],
   "source": [
    "kwords = ['Stalin', 'AI']\n",
    "IFrame(ngram_url(kwords, year_start='1900'), 900, 500)"
   ]
  }
 ],
 "metadata": {
  "kernelspec": {
   "display_name": "Python 3",
   "language": "python",
   "name": "python3"
  },
  "language_info": {
   "codemirror_mode": {
    "name": "ipython",
    "version": 3
   },
   "file_extension": ".py",
   "mimetype": "text/x-python",
   "name": "python",
   "nbconvert_exporter": "python",
   "pygments_lexer": "ipython3",
   "version": "3.6.7"
  }
 },
 "nbformat": 4,
 "nbformat_minor": 2
}
