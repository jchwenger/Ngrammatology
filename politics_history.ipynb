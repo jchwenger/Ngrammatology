{
 "cells": [
  {
   "cell_type": "code",
   "execution_count": 1,
   "metadata": {},
   "outputs": [],
   "source": [
    "from IPython.display import IFrame\n",
    "from ngram import *"
   ]
  },
  {
   "cell_type": "markdown",
   "metadata": {},
   "source": [
    "Ever noticed that the word Stalin contains the two letters AI? I would have thought that the world, especially the English-speaking world, would talk much more about AI than the Russian dictator and \"[Father of Nations](https://en.wikipedia.org/wiki/Stalin's_cult_of_personality)\", but I was wrong in two ways: not only is there still far more chat about the mean gulag dude than about artificial intelligence, but it seems there was even more talk about AI in the late 80s than before 2008 (where current data stops)! (The latter fact being no real surprise: the deep learning renaissance came about after that, especially in the early 2010s...)"
   ]
  },
  {
   "cell_type": "code",
   "execution_count": 4,
   "metadata": {},
   "outputs": [
    {
     "data": {
      "text/html": [
       "\n",
       "        <iframe\n",
       "            width=\"900\"\n",
       "            height=\"400\"\n",
       "            src=\"https://books.google.com/ngrams/interactive_chart?content=Stalin%2CAI&year_start=1920&year_end=2008&corpus=15&smoothing=3&share=&direct_url=t1%3B%2CStalin%3B%2Cc0.t1%3B%2CAI%3B%2Cc0\"\n",
       "            frameborder=\"0\"\n",
       "            allowfullscreen\n",
       "        ></iframe>\n",
       "        "
      ],
      "text/plain": [
       "<IPython.lib.display.IFrame at 0x7feb60d03cf8>"
      ]
     },
     "execution_count": 4,
     "metadata": {},
     "output_type": "execute_result"
    }
   ],
   "source": [
    "kwords = ['Stalin', 'AI']\n",
    "IFrame(ngram_url(kwords, year_start='1920'), 900, 400)"
   ]
  },
  {
   "cell_type": "markdown",
   "metadata": {},
   "source": [
    "## You see me coming: WW2!\n",
    "\n",
    "First in the English corpus: "
   ]
  },
  {
   "cell_type": "code",
   "execution_count": 8,
   "metadata": {},
   "outputs": [
    {
     "data": {
      "text/html": [
       "\n",
       "        <iframe\n",
       "            width=\"900\"\n",
       "            height=\"400\"\n",
       "            src=\"https://books.google.com/ngrams/interactive_chart?content=Hitler%2CChurchill%2CStalin%2CRoosevelt%2CMao%2CMussolini%2CDe%20Gaulle&year_start=1920&year_end=2008&corpus=15&smoothing=3&share=&direct_url=t1%3B%2CHitler%3B%2Cc0.t1%3B%2CChurchill%3B%2Cc0.t1%3B%2CStalin%3B%2Cc0.t1%3B%2CRoosevelt%3B%2Cc0.t1%3B%2CMao%3B%2Cc0.t1%3B%2CMussolini%3B%2Cc0.t1%3B%2CDe%20Gaulle%3B%2Cc0\"\n",
       "            frameborder=\"0\"\n",
       "            allowfullscreen\n",
       "        ></iframe>\n",
       "        "
      ],
      "text/plain": [
       "<IPython.lib.display.IFrame at 0x7f55a28f5358>"
      ]
     },
     "execution_count": 8,
     "metadata": {},
     "output_type": "execute_result"
    }
   ],
   "source": [
    "kwords = ['Hitler', 'Churchill', 'Stalin', 'Roosevelt', 'Mao', 'Mussolini', 'De Gaulle']\n",
    "IFrame(ngram_url(kwords, year_start='1920', corpus='English'), 900, 400)"
   ]
  },
  {
   "cell_type": "markdown",
   "metadata": {},
   "source": [
    "See the difference between British and American English:"
   ]
  },
  {
   "cell_type": "code",
   "execution_count": 3,
   "metadata": {},
   "outputs": [
    {
     "data": {
      "text/html": [
       "\n",
       "        <iframe\n",
       "            width=\"900\"\n",
       "            height=\"400\"\n",
       "            src=\"https://books.google.com/ngrams/interactive_chart?content=Hitler%2CChurchill%2CStalin%2CRoosevelt%2CMao%2CMussolini%2CDe%20Gaulle&year_start=1920&year_end=2008&corpus=18&smoothing=3&share=&direct_url=t1%3B%2CHitler%3B%2Cc0.t1%3B%2CChurchill%3B%2Cc0.t1%3B%2CStalin%3B%2Cc0.t1%3B%2CRoosevelt%3B%2Cc0.t1%3B%2CMao%3B%2Cc0.t1%3B%2CMussolini%3B%2Cc0.t1%3B%2CDe%20Gaulle%3B%2Cc0\"\n",
       "            frameborder=\"0\"\n",
       "            allowfullscreen\n",
       "        ></iframe>\n",
       "        "
      ],
      "text/plain": [
       "<IPython.lib.display.IFrame at 0x7f5cf8e10e10>"
      ]
     },
     "execution_count": 3,
     "metadata": {},
     "output_type": "execute_result"
    }
   ],
   "source": [
    "kwords = ['Hitler', 'Churchill', 'Stalin', 'Roosevelt', 'Mao', 'Mussolini', 'De Gaulle']\n",
    "IFrame(ngram_url(kwords, year_start='1920', corpus='British English'), 900, 400)"
   ]
  },
  {
   "cell_type": "code",
   "execution_count": 2,
   "metadata": {},
   "outputs": [
    {
     "data": {
      "text/html": [
       "\n",
       "        <iframe\n",
       "            width=\"900\"\n",
       "            height=\"400\"\n",
       "            src=\"https://books.google.com/ngrams/interactive_chart?content=Hitler%2CChurchill%2CStalin%2CRoosevelt%2CMao%2CMussolini%2CDe%20Gaulle&year_start=1920&year_end=2008&corpus=17&smoothing=3&share=&direct_url=t1%3B%2CHitler%3B%2Cc0.t1%3B%2CChurchill%3B%2Cc0.t1%3B%2CStalin%3B%2Cc0.t1%3B%2CRoosevelt%3B%2Cc0.t1%3B%2CMao%3B%2Cc0.t1%3B%2CMussolini%3B%2Cc0.t1%3B%2CDe%20Gaulle%3B%2Cc0\"\n",
       "            frameborder=\"0\"\n",
       "            allowfullscreen\n",
       "        ></iframe>\n",
       "        "
      ],
      "text/plain": [
       "<IPython.lib.display.IFrame at 0x7f5cf8e10d68>"
      ]
     },
     "execution_count": 2,
     "metadata": {},
     "output_type": "execute_result"
    }
   ],
   "source": [
    "kwords = ['Hitler', 'Churchill', 'Stalin', 'Roosevelt', 'Mao', 'Mussolini', 'De Gaulle']\n",
    "IFrame(ngram_url(kwords, year_start='1920', corpus='American English'), 900, 400)"
   ]
  },
  {
   "cell_type": "markdown",
   "metadata": {},
   "source": [
    "In French:"
   ]
  },
  {
   "cell_type": "code",
   "execution_count": 4,
   "metadata": {},
   "outputs": [
    {
     "data": {
      "text/html": [
       "\n",
       "        <iframe\n",
       "            width=\"900\"\n",
       "            height=\"400\"\n",
       "            src=\"https://books.google.com/ngrams/interactive_chart?content=Hitler%2CChurchill%2CStalin%2CRoosevelt%2CMao%2CMussolini%2CDe%20Gaulle&year_start=1920&year_end=2008&corpus=19&smoothing=3&share=&direct_url=t1%3B%2CHitler%3B%2Cc0.t1%3B%2CChurchill%3B%2Cc0.t1%3B%2CStalin%3B%2Cc0.t1%3B%2CRoosevelt%3B%2Cc0.t1%3B%2CMao%3B%2Cc0.t1%3B%2CMussolini%3B%2Cc0.t1%3B%2CDe%20Gaulle%3B%2Cc0\"\n",
       "            frameborder=\"0\"\n",
       "            allowfullscreen\n",
       "        ></iframe>\n",
       "        "
      ],
      "text/plain": [
       "<IPython.lib.display.IFrame at 0x7f55a31b4f60>"
      ]
     },
     "execution_count": 4,
     "metadata": {},
     "output_type": "execute_result"
    }
   ],
   "source": [
    "kwords = ['Hitler', 'Churchill', 'Stalin', 'Roosevelt', 'Mao', 'Mussolini', 'De Gaulle']\n",
    "IFrame(ngram_url(kwords, year_start='1920', corpus='French'), 900, 400)"
   ]
  },
  {
   "cell_type": "markdown",
   "metadata": {},
   "source": [
    "German:"
   ]
  },
  {
   "cell_type": "code",
   "execution_count": 5,
   "metadata": {},
   "outputs": [
    {
     "data": {
      "text/html": [
       "\n",
       "        <iframe\n",
       "            width=\"900\"\n",
       "            height=\"400\"\n",
       "            src=\"https://books.google.com/ngrams/interactive_chart?content=Hitler%2CChurchill%2CStalin%2CRoosevelt%2CMao%2CMussolini%2CDe%20Gaulle&year_start=1920&year_end=2008&corpus=20&smoothing=3&share=&direct_url=t1%3B%2CHitler%3B%2Cc0.t1%3B%2CChurchill%3B%2Cc0.t1%3B%2CStalin%3B%2Cc0.t1%3B%2CRoosevelt%3B%2Cc0.t1%3B%2CMao%3B%2Cc0.t1%3B%2CMussolini%3B%2Cc0.t1%3B%2CDe%20Gaulle%3B%2Cc0\"\n",
       "            frameborder=\"0\"\n",
       "            allowfullscreen\n",
       "        ></iframe>\n",
       "        "
      ],
      "text/plain": [
       "<IPython.lib.display.IFrame at 0x7f55a28f51d0>"
      ]
     },
     "execution_count": 5,
     "metadata": {},
     "output_type": "execute_result"
    }
   ],
   "source": [
    "kwords = ['Hitler', 'Churchill', 'Stalin', 'Roosevelt', 'Mao', 'Mussolini', 'De Gaulle']\n",
    "IFrame(ngram_url(kwords, year_start='1920', corpus='German'), 900, 400)"
   ]
  },
  {
   "cell_type": "markdown",
   "metadata": {},
   "source": [
    "Italian:"
   ]
  },
  {
   "cell_type": "code",
   "execution_count": 6,
   "metadata": {},
   "outputs": [
    {
     "data": {
      "text/html": [
       "\n",
       "        <iframe\n",
       "            width=\"900\"\n",
       "            height=\"400\"\n",
       "            src=\"https://books.google.com/ngrams/interactive_chart?content=Hitler%2CChurchill%2CStalin%2CRoosevelt%2CMao%2CMussolini%2CDe%20Gaulle&year_start=1920&year_end=2008&corpus=22&smoothing=3&share=&direct_url=t1%3B%2CHitler%3B%2Cc0.t1%3B%2CChurchill%3B%2Cc0.t1%3B%2CStalin%3B%2Cc0.t1%3B%2CRoosevelt%3B%2Cc0.t1%3B%2CMao%3B%2Cc0.t1%3B%2CMussolini%3B%2Cc0.t1%3B%2CDe%20Gaulle%3B%2Cc0\"\n",
       "            frameborder=\"0\"\n",
       "            allowfullscreen\n",
       "        ></iframe>\n",
       "        "
      ],
      "text/plain": [
       "<IPython.lib.display.IFrame at 0x7f55a28f50f0>"
      ]
     },
     "execution_count": 6,
     "metadata": {},
     "output_type": "execute_result"
    }
   ],
   "source": [
    "kwords = ['Hitler', 'Churchill', 'Stalin', 'Roosevelt', 'Mao', 'Mussolini', 'De Gaulle']\n",
    "IFrame(ngram_url(kwords, year_start='1920', corpus='Italian'), 900, 400)"
   ]
  },
  {
   "cell_type": "markdown",
   "metadata": {},
   "source": [
    "---\n",
    "As a side note, here a longer historical view (English corpus):"
   ]
  },
  {
   "cell_type": "code",
   "execution_count": 5,
   "metadata": {},
   "outputs": [
    {
     "data": {
      "text/html": [
       "\n",
       "        <iframe\n",
       "            width=\"900\"\n",
       "            height=\"400\"\n",
       "            src=\"https://books.google.com/ngrams/interactive_chart?content=Napoleon%2CHitler%2CLenin%2CStalin%2CMao&year_start=1800&year_end=2008&corpus=15&smoothing=3&share=&direct_url=t1%3B%2CNapoleon%3B%2Cc0.t1%3B%2CHitler%3B%2Cc0.t1%3B%2CLenin%3B%2Cc0.t1%3B%2CStalin%3B%2Cc0.t1%3B%2CMao%3B%2Cc0\"\n",
       "            frameborder=\"0\"\n",
       "            allowfullscreen\n",
       "        ></iframe>\n",
       "        "
      ],
      "text/plain": [
       "<IPython.lib.display.IFrame at 0x7f5cf85510b8>"
      ]
     },
     "execution_count": 5,
     "metadata": {},
     "output_type": "execute_result"
    }
   ],
   "source": [
    "kwords = ['Napoleon','Hitler', 'Lenin', 'Stalin', 'Mao']\n",
    "IFrame(ngram_url(kwords, year_start='1800', corpus='English'), 900, 400)"
   ]
  },
  {
   "cell_type": "markdown",
   "metadata": {},
   "source": [
    "---\n",
    "\n",
    "## US Postwar Presidents \n",
    "\n",
    "(Only a few). In the American English corpus:\n"
   ]
  },
  {
   "cell_type": "code",
   "execution_count": 10,
   "metadata": {},
   "outputs": [
    {
     "data": {
      "text/html": [
       "\n",
       "        <iframe\n",
       "            width=\"900\"\n",
       "            height=\"400\"\n",
       "            src=\"https://books.google.com/ngrams/interactive_chart?content=Ronald+Reagan%2CBill+Clinton%2CJohn+F.+Kennedy%2CRichard+Nixon%2CJimmy+Carter%2CFranklin+D.+Roosevelt%2CHarry+Truman%2CGeorge+W.+Bush%2CGeorge+H.+W.+Bush&year_start=1950&year_end=2008&corpus=15&smoothing=3&share=&direct_url=t1%3B%2CRonald%20Reagan%3B%2Cc0.t1%3B%2CBill%20Clinton%3B%2Cc0.t1%3B%2CJohn%20F.%20Kennedy%3B%2Cc0.t1%3B%2CRichard%20Nixon%3B%2Cc0.t1%3B%2CJimmy%20Carter%3B%2Cc0.t1%3B%2CFranklin%20D.%20Roosevelt%3B%2Cc0.t1%3B%2CHarry%20Truman%3B%2Cc0.t1%3B%2CGeorge%20W.%20Bush%3B%2Cc0.t1%3B%2CGeorge%20H.%20W.%20Bush%3B%2Cc0\"\n",
       "            frameborder=\"0\"\n",
       "            allowfullscreen\n",
       "        ></iframe>\n",
       "        "
      ],
      "text/plain": [
       "<IPython.lib.display.IFrame at 0x7feb60447358>"
      ]
     },
     "execution_count": 10,
     "metadata": {},
     "output_type": "execute_result"
    }
   ],
   "source": [
    "kwords = ['Ronald Reagan', 'Bill Clinton', 'John F. Kennedy', 'Richard Nixon', 'Jimmy Carter', 'Franklin D. Roosevelt', 'Harry Truman', 'George W. Bush', 'George H. W. Bush']\n",
    "IFrame(ngram_url(kwords, year_start='1950', corpus='English'), 900, 400)"
   ]
  },
  {
   "cell_type": "markdown",
   "metadata": {},
   "source": [
    "Unfortunately data stops at 2008..."
   ]
  }
 ],
 "metadata": {
  "kernelspec": {
   "display_name": "Python 3",
   "language": "python",
   "name": "python3"
  },
  "language_info": {
   "codemirror_mode": {
    "name": "ipython",
    "version": 3
   },
   "file_extension": ".py",
   "mimetype": "text/x-python",
   "name": "python",
   "nbconvert_exporter": "python",
   "pygments_lexer": "ipython3",
   "version": "3.6.7"
  }
 },
 "nbformat": 4,
 "nbformat_minor": 2
}
